{
 "cells": [
  {
   "cell_type": "code",
   "execution_count": 1,
   "id": "186e0476",
   "metadata": {},
   "outputs": [],
   "source": [
    "# Import the random module.\n",
    "import random"
   ]
  },
  {
   "cell_type": "code",
   "execution_count": 2,
   "id": "a683a9fd",
   "metadata": {},
   "outputs": [
    {
     "data": {
      "text/plain": [
       "-18"
      ]
     },
     "execution_count": 2,
     "metadata": {},
     "output_type": "execute_result"
    }
   ],
   "source": [
    "random.randint(-90, 90)"
   ]
  },
  {
   "cell_type": "code",
   "execution_count": 3,
   "id": "a121512f",
   "metadata": {},
   "outputs": [
    {
     "data": {
      "text/plain": [
       "0.9348614250095127"
      ]
     },
     "execution_count": 3,
     "metadata": {},
     "output_type": "execute_result"
    }
   ],
   "source": [
    "random.random()"
   ]
  },
  {
   "cell_type": "code",
   "execution_count": 4,
   "id": "cbc9ca6e",
   "metadata": {},
   "outputs": [
    {
     "data": {
      "text/plain": [
       "4.1421753646541335"
      ]
     },
     "execution_count": 4,
     "metadata": {},
     "output_type": "execute_result"
    }
   ],
   "source": [
    "random_number = random.randint(-90, 89) + random.random()\n",
    "random_number"
   ]
  },
  {
   "cell_type": "code",
   "execution_count": 5,
   "id": "d073d9b5",
   "metadata": {},
   "outputs": [],
   "source": [
    "x = 1\n",
    "latitudes = []\n",
    "while x < 11:\n",
    "    random_lat = random.randint(-90, 89) + random.random()\n",
    "    latitudes.append(random_lat)\n",
    "    x += 1"
   ]
  },
  {
   "cell_type": "code",
   "execution_count": 6,
   "id": "8666dd8a",
   "metadata": {},
   "outputs": [
    {
     "data": {
      "text/plain": [
       "[42.55905808078813,\n",
       " 44.070297038603314,\n",
       " 56.10967447345957,\n",
       " 56.10139806822398,\n",
       " 36.82487288731581,\n",
       " -63.15687121966795,\n",
       " 86.94076534539768,\n",
       " 87.32391199824811,\n",
       " -38.63170807139727,\n",
       " -30.116104736691092]"
      ]
     },
     "execution_count": 6,
     "metadata": {},
     "output_type": "execute_result"
    }
   ],
   "source": [
    "latitudes"
   ]
  },
  {
   "cell_type": "code",
   "execution_count": 7,
   "id": "67c82c2f",
   "metadata": {},
   "outputs": [
    {
     "data": {
      "text/plain": [
       "60"
      ]
     },
     "execution_count": 7,
     "metadata": {},
     "output_type": "execute_result"
    }
   ],
   "source": [
    "random.randrange(-90, 90, step=3)\n",
    "# or random.randrange(-90, 90, 3)"
   ]
  },
  {
   "cell_type": "code",
   "execution_count": 8,
   "id": "0b88f1ec",
   "metadata": {},
   "outputs": [
    {
     "data": {
      "text/plain": [
       "36.51286535059043"
      ]
     },
     "execution_count": 8,
     "metadata": {},
     "output_type": "execute_result"
    }
   ],
   "source": [
    "random.uniform(-90, 90)"
   ]
  },
  {
   "cell_type": "code",
   "execution_count": 9,
   "id": "665c8f78",
   "metadata": {},
   "outputs": [],
   "source": [
    "import numpy as np"
   ]
  },
  {
   "cell_type": "code",
   "execution_count": 10,
   "id": "4dcf01c4",
   "metadata": {},
   "outputs": [
    {
     "data": {
      "text/plain": [
       "array([-42.05398461,  29.94250974,  50.36960266,  -9.96836548,\n",
       "        34.56673455,  17.70012879, -23.26973304, -10.49310954,\n",
       "       -85.72096216,   8.00532942,  52.2464329 , -32.80967713,\n",
       "        80.8233137 ,  65.18730571,  42.76567719,  81.76630841,\n",
       "       -29.97872135,  81.85624687, -21.38162493,  79.65692665,\n",
       "        48.63766582,  75.22231753,  22.16800669, -34.76076658,\n",
       "       -72.69676123, -70.91495723,  24.3403454 ,  74.46544689,\n",
       "        86.71377653,  21.94691267,  19.76069548,  26.79045194,\n",
       "       -26.16276405, -81.12728921,   7.29464106,  77.80694958,\n",
       "        33.82395618, -31.38379714,  77.60334081,  23.47057126,\n",
       "        39.3676156 ,  49.57169921,  30.30994081, -81.10831456,\n",
       "        48.61951751, -54.40642101,  26.63137042, -88.30856133,\n",
       "        81.20227821, -57.24774784])"
      ]
     },
     "execution_count": 10,
     "metadata": {},
     "output_type": "execute_result"
    }
   ],
   "source": [
    "np.random.uniform(-90, 90, size=50)\n",
    "# or np.random.uniform(low=-90, high=90)"
   ]
  },
  {
   "cell_type": "code",
   "execution_count": 11,
   "id": "ac3a1f21",
   "metadata": {},
   "outputs": [],
   "source": [
    "import timeit"
   ]
  },
  {
   "cell_type": "code",
   "execution_count": 12,
   "id": "29f78550",
   "metadata": {},
   "outputs": [
    {
     "name": "stdout",
     "output_type": "stream",
     "text": [
      "44.9 µs ± 5.41 µs per loop (mean ± std. dev. of 7 runs, 10000 loops each)\n"
     ]
    }
   ],
   "source": [
    "%timeit np.random.uniform(-90.000, 90.000, size=1500)"
   ]
  },
  {
   "cell_type": "code",
   "execution_count": 13,
   "id": "b5265a1c",
   "metadata": {},
   "outputs": [
    {
     "name": "stdout",
     "output_type": "stream",
     "text": [
      "6.06 ms ± 803 µs per loop (mean ± std. dev. of 7 runs, 100 loops each)\n"
     ]
    }
   ],
   "source": [
    "def latitudes(size):\n",
    "    latitudes = []\n",
    "    x = 0\n",
    "    while x < (size):\n",
    "        random_lat = random.randint(-90, 90) + random.random()\n",
    "        latitudes.append(random_lat)\n",
    "        x += 1\n",
    "    return latitudes\n",
    "# Call the function with 1500.\n",
    "%timeit latitudes(1500)"
   ]
  },
  {
   "cell_type": "code",
   "execution_count": null,
   "id": "a12bbf7f",
   "metadata": {},
   "outputs": [],
   "source": []
  }
 ],
 "metadata": {
  "kernelspec": {
   "display_name": "Python 3 (ipykernel)",
   "language": "python",
   "name": "python3"
  },
  "language_info": {
   "codemirror_mode": {
    "name": "ipython",
    "version": 3
   },
   "file_extension": ".py",
   "mimetype": "text/x-python",
   "name": "python",
   "nbconvert_exporter": "python",
   "pygments_lexer": "ipython3",
   "version": "3.7.13"
  }
 },
 "nbformat": 4,
 "nbformat_minor": 5
}
